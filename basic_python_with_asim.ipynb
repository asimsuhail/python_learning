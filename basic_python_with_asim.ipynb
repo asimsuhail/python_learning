{
 "cells": [
  {
   "cell_type": "markdown",
   "id": "11717b6a",
   "metadata": {},
   "source": [
    "# Learning Python with asim\n",
    "## Python Basics\n",
    "### 01- first program\n",
    "print() function prints the arguments on the output screen"
   ]
  },
  {
   "cell_type": "code",
   "execution_count": 1,
   "id": "c3632c31",
   "metadata": {},
   "outputs": [
    {
     "name": "stdout",
     "output_type": "stream",
     "text": [
      "hello\n"
     ]
    }
   ],
   "source": [
    "print('hello')"
   ]
  },
  {
   "cell_type": "markdown",
   "id": "1901fefb",
   "metadata": {},
   "source": [
    "### 02- operators"
   ]
  },
  {
   "cell_type": "code",
   "execution_count": 2,
   "id": "e5f61f05",
   "metadata": {},
   "outputs": [
    {
     "name": "stdout",
     "output_type": "stream",
     "text": [
      "-2\n",
      "9\n",
      "18\n",
      "6.0\n",
      "4\n",
      "8\n",
      "1\n"
     ]
    }
   ],
   "source": [
    "print(2-4)\n",
    "print(5+4)\n",
    "print(3*6)\n",
    "print(24/4)\n",
    "\n",
    "\n",
    "print(9//2)\n",
    "print(2**3)\n",
    "print(9%2)"
   ]
  },
  {
   "cell_type": "markdown",
   "id": "49fceed8",
   "metadata": {},
   "source": [
    "### 03- strings"
   ]
  },
  {
   "cell_type": "code",
   "execution_count": 3,
   "id": "95ea04d0",
   "metadata": {},
   "outputs": [
    {
     "name": "stdout",
     "output_type": "stream",
     "text": [
      "helo\n",
      "HI this is asim\n",
      " hi how are you\n",
      "that's great\n",
      "this's greate \n"
     ]
    }
   ],
   "source": [
    "print('helo')\n",
    "print(\"HI this is asim\")\n",
    "print(''' hi how are you''')\n",
    "\n",
    "\n",
    "print(\"that's great\")\n",
    "print('''this's greate ''')"
   ]
  },
  {
   "cell_type": "markdown",
   "id": "023ac5dc",
   "metadata": {},
   "source": [
    "### 04- comments"
   ]
  },
  {
   "cell_type": "code",
   "execution_count": 4,
   "id": "b50dd20a",
   "metadata": {
    "scrolled": true
   },
   "outputs": [
    {
     "name": "stdout",
     "output_type": "stream",
     "text": [
      "how are you\n",
      "hi\n",
      "this is\n",
      "asim\n"
     ]
    }
   ],
   "source": [
    "# this is a comment\n",
    "\n",
    "'''\n",
    "this is also a comment\n",
    "'''\n",
    "\n",
    "# print('hello')  ctrl + / to comment line\n",
    "print('how are you') # to print greetings\n",
    "\n",
    "print('hi')\n",
    "print('this is')\n",
    "print('asim')\n"
   ]
  },
  {
   "cell_type": "markdown",
   "id": "1e9573d6",
   "metadata": {},
   "source": [
    "### 05- variables"
   ]
  },
  {
   "cell_type": "code",
   "execution_count": 5,
   "id": "475ef5d0",
   "metadata": {},
   "outputs": [
    {
     "name": "stdout",
     "output_type": "stream",
     "text": [
      "5\n",
      "hello world\n",
      "<class 'int'>\n"
     ]
    }
   ],
   "source": [
    "# variable in python\n",
    "# variable is object storing some value\n",
    "\n",
    "x = 5\n",
    "print(x)\n",
    "\n",
    "y = \"hello world\"\n",
    "print(y)\n",
    "\n",
    "# rules for variables\n",
    "# 1 variable consists of alphabets numbers underscores _\n",
    "# 2 variable does not start with number\n",
    "# 3 variable does not contain spaces\n",
    "# 4 keywords cannot be used as variables names ( for if elif pass )\n",
    "# 5 variable names are case sensitive mean X is different than x \n",
    "# 6 variable name should be short and descriptive\n",
    "\n",
    "fruit_basket = \"orange\"\n",
    "fruit_basket = 9\n",
    "# del fruit_basket\n",
    "print(type(fruit_basket))"
   ]
  },
  {
   "cell_type": "markdown",
   "id": "6c602431",
   "metadata": {},
   "source": [
    "### 06- input variables"
   ]
  },
  {
   "cell_type": "code",
   "execution_count": 6,
   "id": "ba23a620",
   "metadata": {},
   "outputs": [
    {
     "name": "stdout",
     "output_type": "stream",
     "text": [
      "mangoes\n",
      "apple\n",
      "apple\n",
      "which fruit is your favoriteapple\n",
      "apple\n",
      "<class 'str'>\n"
     ]
    }
   ],
   "source": [
    "fruit_basket = \"mangoes\"\n",
    "print(fruit_basket)\n",
    "fruit_basket = input()\n",
    "print(fruit_basket)\n",
    "#input function\n",
    "\n",
    "fruit_basket = input(\"which fruit is your favorite\")\n",
    "print(fruit_basket)\n",
    "print(type(fruit_basket))"
   ]
  },
  {
   "cell_type": "markdown",
   "id": "94e3888d",
   "metadata": {},
   "source": [
    "### 07 conditional logics"
   ]
  },
  {
   "cell_type": "code",
   "execution_count": 7,
   "id": "74abe80b",
   "metadata": {},
   "outputs": [
    {
     "name": "stdout",
     "output_type": "stream",
     "text": [
      "what is your age 56\n",
      "<class 'int'>\n",
      "False\n"
     ]
    }
   ],
   "source": [
    "# logical operators \n",
    "# ==\n",
    "# !=\n",
    "# !\n",
    "# <\n",
    "# >\n",
    "# <=\n",
    "# >=\n",
    "\n",
    "# print( 5 != 4 )\n",
    "\n",
    "# can hammad go to school\n",
    "# hammad_age = 4\n",
    "# min_school_age = 5\n",
    "# print( hammad_age == min_school_age )\n",
    "\n",
    "# hammad age using input\n",
    "\n",
    "hammad_age = input(\"what is your age \")\n",
    "hammad_age = int(hammad_age)\n",
    "print(type(hammad_age))\n",
    "min_school_age = 5\n",
    "\n",
    "print(hammad_age == min_school_age)\n",
    "\n"
   ]
  },
  {
   "cell_type": "markdown",
   "id": "941fe6fa",
   "metadata": {},
   "source": [
    "### 08- type conversion"
   ]
  },
  {
   "cell_type": "code",
   "execution_count": 8,
   "id": "eb9addf2",
   "metadata": {},
   "outputs": [
    {
     "name": "stdout",
     "output_type": "stream",
     "text": [
      "20.2 type of x :  <class 'float'>\n",
      "what is your age?  56\n",
      "56 <class 'int'>\n",
      "<class 'int'>\n"
     ]
    }
   ],
   "source": [
    "# type conversion\n",
    "x = 10\n",
    "y = 10.2\n",
    "x = x + y\n",
    "print(x, \"type of x : \", type(x))\n",
    "\n",
    "# explicit type conversion\n",
    "\n",
    "# age = input(\"what is your age?  \")\n",
    "# print(age, type(int(age)))\n",
    "# print(type(age))\n",
    "\n",
    "\n",
    "age = input(\"what is your age?  \")\n",
    "age = int(age)\n",
    "print(age, type(age))\n",
    "print(type(age))"
   ]
  },
  {
   "cell_type": "markdown",
   "id": "425cc7f3",
   "metadata": {},
   "source": [
    "### 09- if else elif"
   ]
  },
  {
   "cell_type": "code",
   "execution_count": 9,
   "id": "9e2d3669",
   "metadata": {},
   "outputs": [
    {
     "name": "stdout",
     "output_type": "stream",
     "text": [
      "hammad cannot go to school\n"
     ]
    }
   ],
   "source": [
    "min_school_age = 5\n",
    "hammad_age = 4\n",
    "\n",
    "#can hammad go to school\n",
    "if hammad_age==min_school_age:\n",
    "    print('yes hammad can go to school')\n",
    "elif hammad_age <=2:\n",
    "    print('hammad is baby you should take care of hammad')\n",
    "elif hammad_age >min_school_age:\n",
    "    print('hammad should go to high school')\n",
    "else:\n",
    "    print('hammad cannot go to school')"
   ]
  },
  {
   "cell_type": "markdown",
   "id": "46ec6b28",
   "metadata": {},
   "source": [
    "### 10- functions"
   ]
  },
  {
   "cell_type": "code",
   "execution_count": 10,
   "id": "ebeb1088",
   "metadata": {},
   "outputs": [
    {
     "name": "stdout",
     "output_type": "stream",
     "text": [
      "we are learning with asim\n",
      "we are learning with asim\n",
      "we are learning with asim\n",
      "hammad is baby you should take care of hammad\n",
      "9\n"
     ]
    }
   ],
   "source": [
    "# print(\"we are learning with asim\")\n",
    "# print(\"we are learnin with asim\")\n",
    "# print(\"we are learnin with asim\")\n",
    "# print(\"we are learnin with asim\")\n",
    "# print(\"we are learnin with asim\")\n",
    "# print(\"we are learnin with asim\")\n",
    "# print(\"we are learnin with asim\")\n",
    "# print(\"we are learnin with asim\")\n",
    "\n",
    "# 2nd method\n",
    "\n",
    "def print_learning():\n",
    "    print(\"we are learning with asim\")\n",
    "    print(\"we are learning with asim\")\n",
    "    print(\"we are learning with asim\")\n",
    "\n",
    "print_learning()\n",
    "\n",
    "# 2nd method \n",
    "# def print_learning():\n",
    "#     text = \"we are learning with asim\"\n",
    "#     print(text)\n",
    "#     print(text)\n",
    "#     print(text)\n",
    "# print_learning()\n",
    "\n",
    "# def print_learning(text):\n",
    "#     print(text)\n",
    "#     print(text)\n",
    "#     print(text)\n",
    "\n",
    "# print_learning(\"we are learning with asim\")\n",
    "\n",
    "# school calculator\n",
    "def school_cal(hammad_age, min_school_age):\n",
    "    if hammad_age==min_school_age:\n",
    "        print('yes hammad can go to school')\n",
    "    elif hammad_age <=2:\n",
    "        print('hammad is baby you should take care of hammad')\n",
    "    elif hammad_age >min_school_age:\n",
    "        print('hammad should go to high school')\n",
    "    else:\n",
    "        print('hammad cannot go to school')\n",
    "\n",
    "school_cal(2,5)\n",
    "\n",
    "def future_age(age):\n",
    "    new_age = age + 5\n",
    "    return new_age\n",
    "print(future_age(4))"
   ]
  },
  {
   "cell_type": "markdown",
   "id": "fcda75db",
   "metadata": {},
   "source": [
    "### 11- loops"
   ]
  },
  {
   "cell_type": "code",
   "execution_count": 11,
   "id": "45ab13fc",
   "metadata": {},
   "outputs": [
    {
     "name": "stdout",
     "output_type": "stream",
     "text": [
      "0\n",
      "1\n",
      "2\n",
      "3\n",
      "4\n",
      "5\n",
      "6\n",
      "7\n",
      "8\n",
      "9\n",
      "10\n",
      "mon\n",
      "tue\n",
      "wed\n",
      "thu\n",
      "sat\n",
      "sun\n"
     ]
    }
   ],
   "source": [
    "# for loops and while loops\n",
    "\n",
    "x = 0\n",
    "while x < 4:\n",
    "    print(x)\n",
    "    x = x + 1\n",
    "\n",
    "for x in range(4, 11):\n",
    "    print(x)\n",
    "\n",
    "\n",
    "days = [ 'mon', 'tue', 'wed', 'thu', 'fri', 'sat', 'sun' ]\n",
    "\n",
    "for day in days:\n",
    "    # if(day == 'fri'):break\n",
    "    if(day == 'fri'):continue\n",
    "    print(day)"
   ]
  },
  {
   "cell_type": "markdown",
   "id": "fe55e0a2",
   "metadata": {},
   "source": [
    "### 12- import libraries"
   ]
  },
  {
   "cell_type": "code",
   "execution_count": 12,
   "id": "5bc1b874",
   "metadata": {},
   "outputs": [
    {
     "name": "stdout",
     "output_type": "stream",
     "text": [
      "3.141592653589793\n",
      "3.141592653589793\n",
      "3.141592653589793\n",
      "35252.666666666664\n"
     ]
    }
   ],
   "source": [
    "import math\n",
    "print(math.pi)\n",
    "\n",
    "from math import pi\n",
    "print(pi) \n",
    "\n",
    "from math import pi as p\n",
    "print(p)\n",
    "\n",
    "# above three methods are performing same thing\n",
    "import statistics\n",
    "x = [ 12, 23, 234, 456, 342 ,45 ]\n",
    "print(statistics.variance(x))\n",
    "\n"
   ]
  },
  {
   "cell_type": "markdown",
   "id": "43b8efb0",
   "metadata": {},
   "source": [
    "### 13- troubleshooting"
   ]
  },
  {
   "cell_type": "code",
   "execution_count": 13,
   "id": "e6199fdd",
   "metadata": {
    "scrolled": true
   },
   "outputs": [
    {
     "ename": "ZeroDivisionError",
     "evalue": "division by zero",
     "output_type": "error",
     "traceback": [
      "\u001b[1;31m---------------------------------------------------------------------------\u001b[0m",
      "\u001b[1;31mZeroDivisionError\u001b[0m                         Traceback (most recent call last)",
      "Cell \u001b[1;32mIn [13], line 3\u001b[0m\n\u001b[0;32m      1\u001b[0m \u001b[38;5;66;03m# print(we are learning with asim) # syntax error\u001b[39;00m\n\u001b[1;32m----> 3\u001b[0m \u001b[38;5;28mprint\u001b[39m(\u001b[38;5;241;43m23\u001b[39;49m\u001b[38;5;241;43m/\u001b[39;49m\u001b[38;5;241;43m0\u001b[39;49m) \u001b[38;5;66;03m# runtime error\u001b[39;00m\n\u001b[0;32m      5\u001b[0m name \u001b[38;5;241m=\u001b[39m \u001b[38;5;124m\"\u001b[39m\u001b[38;5;124masim\u001b[39m\u001b[38;5;124m\"\u001b[39m\n\u001b[0;32m      6\u001b[0m \u001b[38;5;28mprint\u001b[39m(\u001b[38;5;124m\"\u001b[39m\u001b[38;5;124mhey name\u001b[39m\u001b[38;5;124m\"\u001b[39m) \u001b[38;5;66;03m# logical error\u001b[39;00m\n",
      "\u001b[1;31mZeroDivisionError\u001b[0m: division by zero"
     ]
    }
   ],
   "source": [
    "# print(we are learning with asim) # syntax error\n",
    "\n",
    "print(23/0) # runtime error\n",
    "\n",
    "name = \"asim\"\n",
    "print(\"hey name\") # logical error"
   ]
  }
 ],
 "metadata": {
  "kernelspec": {
   "display_name": "Python 3 (ipykernel)",
   "language": "python",
   "name": "python3"
  },
  "language_info": {
   "codemirror_mode": {
    "name": "ipython",
    "version": 3
   },
   "file_extension": ".py",
   "mimetype": "text/x-python",
   "name": "python",
   "nbconvert_exporter": "python",
   "pygments_lexer": "ipython3",
   "version": "3.10.2"
  }
 },
 "nbformat": 4,
 "nbformat_minor": 5
}
