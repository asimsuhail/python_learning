{
 "cells": [
  {
   "cell_type": "markdown",
   "id": "d1a4962f",
   "metadata": {},
   "source": [
    "# -Indexing in python"
   ]
  },
  {
   "cell_type": "code",
   "execution_count": 1,
   "id": "16a1c3e0",
   "metadata": {},
   "outputs": [
    {
     "data": {
      "text/plain": [
       "'samosa pakora'"
      ]
     },
     "execution_count": 1,
     "metadata": {},
     "output_type": "execute_result"
    }
   ],
   "source": [
    "# make a string\n",
    "a = \"samosa pakora\"\n",
    "a"
   ]
  },
  {
   "cell_type": "code",
   "execution_count": 10,
   "id": "316de630",
   "metadata": {},
   "outputs": [
    {
     "data": {
      "text/plain": [
       "'m'"
      ]
     },
     "execution_count": 10,
     "metadata": {},
     "output_type": "execute_result"
    }
   ],
   "source": [
    "a[0]\n"
   ]
  },
  {
   "cell_type": "code",
   "execution_count": 4,
   "id": "ac4a4c4d",
   "metadata": {},
   "outputs": [
    {
     "data": {
      "text/plain": [
       "'a'"
      ]
     },
     "execution_count": 4,
     "metadata": {},
     "output_type": "execute_result"
    }
   ],
   "source": [
    "a[1]"
   ]
  },
  {
   "cell_type": "code",
   "execution_count": 5,
   "id": "90e9e31a",
   "metadata": {},
   "outputs": [
    {
     "data": {
      "text/plain": [
       "'o'"
      ]
     },
     "execution_count": 5,
     "metadata": {},
     "output_type": "execute_result"
    }
   ],
   "source": [
    "a[3]"
   ]
  },
  {
   "cell_type": "code",
   "execution_count": 11,
   "id": "07dfdeae",
   "metadata": {},
   "outputs": [
    {
     "data": {
      "text/plain": [
       "13"
      ]
     },
     "execution_count": 11,
     "metadata": {},
     "output_type": "execute_result"
    }
   ],
   "source": [
    "# length of a string\n",
    "len(a)"
   ]
  },
  {
   "cell_type": "code",
   "execution_count": 13,
   "id": "80d4fc69",
   "metadata": {},
   "outputs": [
    {
     "data": {
      "text/plain": [
       "'a'"
      ]
     },
     "execution_count": 13,
     "metadata": {},
     "output_type": "execute_result"
    }
   ],
   "source": [
    "a[12]"
   ]
  },
  {
   "cell_type": "code",
   "execution_count": 21,
   "id": "7f124665",
   "metadata": {},
   "outputs": [
    {
     "data": {
      "text/plain": [
       "'samosa'"
      ]
     },
     "execution_count": 21,
     "metadata": {},
     "output_type": "execute_result"
    }
   ],
   "source": [
    "# exclusive element is last one\n",
    "a[0:6]"
   ]
  },
  {
   "cell_type": "code",
   "execution_count": 23,
   "id": "b8dcf5e3",
   "metadata": {},
   "outputs": [
    {
     "data": {
      "text/plain": [
       "'samosa pakora'"
      ]
     },
     "execution_count": 23,
     "metadata": {},
     "output_type": "execute_result"
    }
   ],
   "source": [
    "a[0:13]"
   ]
  },
  {
   "cell_type": "code",
   "execution_count": 24,
   "id": "74176b25",
   "metadata": {},
   "outputs": [
    {
     "data": {
      "text/plain": [
       "'a'"
      ]
     },
     "execution_count": 24,
     "metadata": {},
     "output_type": "execute_result"
    }
   ],
   "source": [
    "a[-1]"
   ]
  },
  {
   "cell_type": "code",
   "execution_count": 25,
   "id": "88ba36a5",
   "metadata": {},
   "outputs": [
    {
     "data": {
      "text/plain": [
       "'s'"
      ]
     },
     "execution_count": 25,
     "metadata": {},
     "output_type": "execute_result"
    }
   ],
   "source": [
    "a[-0]"
   ]
  },
  {
   "cell_type": "code",
   "execution_count": 27,
   "id": "864c0fb2",
   "metadata": {},
   "outputs": [
    {
     "data": {
      "text/plain": [
       "'k'"
      ]
     },
     "execution_count": 27,
     "metadata": {},
     "output_type": "execute_result"
    }
   ],
   "source": [
    "a[-4]"
   ]
  },
  {
   "cell_type": "code",
   "execution_count": 29,
   "id": "0d830db2",
   "metadata": {},
   "outputs": [
    {
     "data": {
      "text/plain": [
       "''"
      ]
     },
     "execution_count": 29,
     "metadata": {},
     "output_type": "execute_result"
    }
   ],
   "source": [
    "a[-1:-6]"
   ]
  },
  {
   "cell_type": "code",
   "execution_count": 30,
   "id": "59f34be5",
   "metadata": {},
   "outputs": [
    {
     "data": {
      "text/plain": [
       "'pakor'"
      ]
     },
     "execution_count": 30,
     "metadata": {},
     "output_type": "execute_result"
    }
   ],
   "source": [
    "a[-6:-1]"
   ]
  },
  {
   "cell_type": "code",
   "execution_count": 31,
   "id": "7fa9f816",
   "metadata": {},
   "outputs": [
    {
     "data": {
      "text/plain": [
       "''"
      ]
     },
     "execution_count": 31,
     "metadata": {},
     "output_type": "execute_result"
    }
   ],
   "source": [
    "a[-6:-0]"
   ]
  },
  {
   "cell_type": "code",
   "execution_count": 32,
   "id": "017e2270",
   "metadata": {},
   "outputs": [
    {
     "data": {
      "text/plain": [
       "''"
      ]
     },
     "execution_count": 32,
     "metadata": {},
     "output_type": "execute_result"
    }
   ],
   "source": [
    "a[-6:-13]"
   ]
  },
  {
   "cell_type": "code",
   "execution_count": 33,
   "id": "11505c09",
   "metadata": {},
   "outputs": [
    {
     "data": {
      "text/plain": [
       "'pakora'"
      ]
     },
     "execution_count": 33,
     "metadata": {},
     "output_type": "execute_result"
    }
   ],
   "source": [
    "a[-6:13]"
   ]
  },
  {
   "cell_type": "code",
   "execution_count": 42,
   "id": "01003bdf",
   "metadata": {},
   "outputs": [
    {
     "name": "stdout",
     "output_type": "stream",
     "text": [
      "Biryani is . my favouri. sdf h sdf shdf\n",
      "Using casefold(): gross\n",
      "Using lower(): groß\n",
      "**hi*\n",
      "2\n",
      "b'My name is St\\\\xe5le'\n",
      "b'My name is Stle'\n",
      "b'My name is St\\\\N{LATIN SMALL LETTER A WITH RING ABOVE}le'\n",
      "b'My name is St?le'\n",
      "b'My name is St&#229;le'\n",
      "False\n",
      "H\te\tl\tl\to\n",
      "H       e       l       l       o\n",
      "H e l l o\n",
      "H   e   l   l   o\n",
      "H         e         l         l         o\n",
      "8\n",
      "My name is John, I'm 36 \n",
      " My name is John, I'm 36 \n",
      " My name is John, I'm 36\n",
      "8\n",
      "True\n",
      "True\n",
      "True\n",
      "True\n",
      "True\n",
      "True\n",
      "valid identifier True\n"
     ]
    }
   ],
   "source": [
    "food = 'biryani is . my favouri. sdf H sdf sHDF'\n",
    "print(food.capitalize())  # converts first character in capital rest lowers\n",
    "\n",
    "text = 'groß'\n",
    "\n",
    "# convert text to lowercase using casefold() casefold is more aggressive converted german character to equivalent ss\n",
    "print('Using casefold():', text.casefold()) \n",
    "\n",
    "# convert text to lowercase using lower()\n",
    "print('Using lower():', text.lower())\n",
    "\n",
    "mytext = 'hi'\n",
    "# retruns the text centered two parameters number of characters and 2nd is fill element by default \" \"\n",
    "print(mytext.center(5,\"*\"))\n",
    "\n",
    "# coents the specific character how many times they apperar 2 parameters are optional start piont and end point in string\n",
    "\n",
    "txt = \"I love apples, apple are my favorite fruit\"\n",
    "\n",
    "x = txt.count(\"apple\", 1, 24)\n",
    "\n",
    "print(x)\n",
    "\n",
    "\n",
    "# encodes the text to an encoding standard by defualt utf-8 optional parameter is error \n",
    "txt = \"My name is Ståle\"\n",
    "\n",
    "print(txt.encode(encoding=\"ascii\",errors=\"backslashreplace\"))\n",
    "print(txt.encode(encoding=\"ascii\",errors=\"ignore\"))\n",
    "print(txt.encode(encoding=\"ascii\",errors=\"namereplace\"))\n",
    "print(txt.encode(encoding=\"ascii\",errors=\"replace\"))\n",
    "print(txt.encode(encoding=\"ascii\",errors=\"xmlcharrefreplace\"))\n",
    "\n",
    "# Returns true if the string ends with the specified value two start end prameters are optional\n",
    "txt = \"Hello, welcome to my world.\"\n",
    "\n",
    "x = txt.endswith(\"my world.\", 5, 11)\n",
    "\n",
    "print(x)\n",
    "\n",
    "\n",
    "# sets the tab size of a string\n",
    "txt = \"H\\te\\tl\\tl\\to\"\n",
    "\n",
    "print(txt)\n",
    "print(txt.expandtabs())\n",
    "print(txt.expandtabs(2))\n",
    "print(txt.expandtabs(4))\n",
    "print(txt.expandtabs(10))\n",
    "\n",
    "# returns the first occurence of string if not find retruns -1 same as index index raises error instead -1\n",
    "\n",
    "txt = \"Hello, welcome to my world.\"\n",
    "\n",
    "x = txt.find(\"e\", 5, 10)\n",
    "\n",
    "print(x)\n",
    "\n",
    "# formats a string in placeholder\n",
    "\n",
    "txt1 = \"My name is {fname}, I'm {age}\".format(fname = \"John\", age = 36)\n",
    "txt2 = \"My name is {0}, I'm {1}\".format(\"John\",36)\n",
    "txt3 = \"My name is {}, I'm {}\".format(\"John\",36)\n",
    "print(txt1,'\\n', txt2, '\\n', txt3)\n",
    "\n",
    "\n",
    "# returns the index where specific word is found\n",
    "txt = \"Hello, welcome to my world.\"\n",
    "\n",
    "x = txt.index(\"e\", 5, 10)\n",
    "\n",
    "print(x)\n",
    "\n",
    "# returns true if all the characters are alpha numeric space is not alnum\n",
    "txt = \"Company12\"\n",
    "\n",
    "x = txt.isalnum()\n",
    "\n",
    "print(x)\n",
    "\n",
    "# retlurns true if all characters all alpha\n",
    "txt = \"Company\"\n",
    "\n",
    "x = txt.isalpha()\n",
    "\n",
    "print(x)\n",
    "\n",
    "# Returns True if all characters in the string are ascii characters\n",
    "\n",
    "txt = \"Company\"\n",
    "\n",
    "x = txt.isascii()\n",
    "\n",
    "print(x)\n",
    "\n",
    "\n",
    "# Returns True if all characters in the string are decimals 0-9\n",
    "\n",
    "txt = \"2345\"\n",
    "\n",
    "x = txt.isdecimal()\n",
    "\n",
    "print(x)\n",
    "\n",
    "# Returns True if all characters in the string are digits some subscript chracters unicodes etc 0-9 + some characters\n",
    "a = \"\\u0030\" #unicode for 0\n",
    "b = \"\\u00B2\" #unicode for ²\n",
    "\n",
    "print(a.isdigit())\n",
    "print(b.isdigit())\n",
    "\n",
    "# Returns True if the string is an identifier means valid variable naming rule\n",
    "\n",
    "txt = \"Demo\"\n",
    "\n",
    "print(\"valid identifier\", txt.isidentifier())\n",
    "\n",
    "# returns true if string is numeric includes romans\n",
    "\n",
    "txt = \"565543\"\n",
    "\n",
    "x = txt.isnumeric()\n",
    "\n",
    "print(x)\n",
    "\n"
   ]
  },
  {
   "cell_type": "markdown",
   "id": "b5df0770",
   "metadata": {},
   "source": [
    "# string methods"
   ]
  },
  {
   "cell_type": "code",
   "execution_count": 52,
   "id": "3a188375",
   "metadata": {},
   "outputs": [
    {
     "data": {
      "text/plain": [
       "'biryani is . my favouri. sdf H sdf sHDF'"
      ]
     },
     "execution_count": 52,
     "metadata": {},
     "output_type": "execute_result"
    }
   ],
   "source": [
    "food"
   ]
  },
  {
   "cell_type": "code",
   "execution_count": 53,
   "id": "27aaf0fc",
   "metadata": {},
   "outputs": [
    {
     "data": {
      "text/plain": [
       "39"
      ]
     },
     "execution_count": 53,
     "metadata": {},
     "output_type": "execute_result"
    }
   ],
   "source": [
    "len(food)"
   ]
  },
  {
   "cell_type": "markdown",
   "id": "1be5abf1",
   "metadata": {},
   "source": [
    "# after pressing period . press tab button to chech all available methods"
   ]
  },
  {
   "cell_type": "code",
   "execution_count": 57,
   "id": "4ee8ab30",
   "metadata": {},
   "outputs": [
    {
     "data": {
      "text/plain": [
       "'Biryani is . my favouri. sdf h sdf shdf'"
      ]
     },
     "execution_count": 57,
     "metadata": {},
     "output_type": "execute_result"
    }
   ],
   "source": [
    "food.capitalize()"
   ]
  },
  {
   "cell_type": "code",
   "execution_count": 58,
   "id": "095a0067",
   "metadata": {},
   "outputs": [
    {
     "data": {
      "text/plain": [
       "'biryani is . my favouri. sdf h sdf shdf'"
      ]
     },
     "execution_count": 58,
     "metadata": {},
     "output_type": "execute_result"
    }
   ],
   "source": [
    "food.upper()"
   ]
  },
  {
   "cell_type": "code",
   "execution_count": 56,
   "id": "02ac7ce8",
   "metadata": {},
   "outputs": [
    {
     "data": {
      "text/plain": [
       "'biryani is . my favouri. sdf h sdf shdf'"
      ]
     },
     "execution_count": 56,
     "metadata": {},
     "output_type": "execute_result"
    }
   ],
   "source": [
    "food.casefold()"
   ]
  },
  {
   "cell_type": "code",
   "execution_count": 60,
   "id": "f984e069",
   "metadata": {},
   "outputs": [
    {
     "data": {
      "text/plain": [
       "'shiryani is . my favouri. sdf H sdf sHDF'"
      ]
     },
     "execution_count": 60,
     "metadata": {},
     "output_type": "execute_result"
    }
   ],
   "source": [
    "food.replace(\"b\", \"sh\")"
   ]
  },
  {
   "cell_type": "code",
   "execution_count": 65,
   "id": "d1cd6165",
   "metadata": {},
   "outputs": [
    {
     "name": "stdout",
     "output_type": "stream",
     "text": [
      "2\n"
     ]
    },
    {
     "data": {
      "text/plain": [
       "1"
      ]
     },
     "execution_count": 65,
     "metadata": {},
     "output_type": "execute_result"
    }
   ],
   "source": [
    "# counting a specific letter in string\n",
    "print(food.count('a'))\n",
    "food.count('bi')"
   ]
  },
  {
   "cell_type": "markdown",
   "id": "60c124c9",
   "metadata": {},
   "source": [
    "### finding an index number in a string"
   ]
  },
  {
   "cell_type": "code",
   "execution_count": 68,
   "id": "93031118",
   "metadata": {},
   "outputs": [
    {
     "data": {
      "text/plain": [
       "'biryani is . my favouri. sdf H sdf sHDF'"
      ]
     },
     "execution_count": 68,
     "metadata": {},
     "output_type": "execute_result"
    }
   ],
   "source": [
    "food"
   ]
  },
  {
   "cell_type": "code",
   "execution_count": 69,
   "id": "0c0e28e4",
   "metadata": {},
   "outputs": [
    {
     "data": {
      "text/plain": [
       "1"
      ]
     },
     "execution_count": 69,
     "metadata": {},
     "output_type": "execute_result"
    }
   ],
   "source": [
    "food.find('i')"
   ]
  },
  {
   "cell_type": "code",
   "execution_count": 72,
   "id": "593f2020",
   "metadata": {},
   "outputs": [
    {
     "data": {
      "text/plain": [
       "25"
      ]
     },
     "execution_count": 72,
     "metadata": {},
     "output_type": "execute_result"
    }
   ],
   "source": [
    "food.find('sd')"
   ]
  },
  {
   "cell_type": "code",
   "execution_count": 73,
   "id": "d4a933ef",
   "metadata": {},
   "outputs": [],
   "source": [
    "foods = \"I love samosa, pakora, biryani, raita and karahi\""
   ]
  },
  {
   "cell_type": "code",
   "execution_count": 75,
   "id": "8481112f",
   "metadata": {},
   "outputs": [
    {
     "data": {
      "text/plain": [
       "['I love samosa', ' pakora', ' biryani', ' raita and karahi']"
      ]
     },
     "execution_count": 75,
     "metadata": {},
     "output_type": "execute_result"
    }
   ],
   "source": [
    "foods.split(\",\")"
   ]
  },
  {
   "cell_type": "markdown",
   "id": "d8ce079e",
   "metadata": {},
   "source": [
    "# Basics data structures in python\n",
    "### 1- tuples\n",
    "### 2- lists\n",
    "### 3- dictionaries\n",
    "### 4- sets "
   ]
  },
  {
   "cell_type": "markdown",
   "id": "a3feca18",
   "metadata": {},
   "source": [
    "## Tuples\n",
    "- tuple is ordered collection of elements\n",
    "- enclosed in parenthises ()\n",
    "- can store different kinds of elements\n",
    "- once elements are stored you cannot change them or you can say unammutable\n",
    "- tuple indexes starts from 0"
   ]
  },
  {
   "cell_type": "code",
   "execution_count": 2,
   "id": "5df2bf46",
   "metadata": {},
   "outputs": [
    {
     "data": {
      "text/plain": [
       "(1, 'python', 3.1, True)"
      ]
     },
     "execution_count": 2,
     "metadata": {},
     "output_type": "execute_result"
    }
   ],
   "source": [
    "mytuple = ( 1, \"python\", 3.10, True)\n",
    "mytuple"
   ]
  },
  {
   "cell_type": "code",
   "execution_count": 3,
   "id": "31e4810d",
   "metadata": {},
   "outputs": [
    {
     "data": {
      "text/plain": [
       "tuple"
      ]
     },
     "execution_count": 3,
     "metadata": {},
     "output_type": "execute_result"
    }
   ],
   "source": [
    "# type of tuple\n",
    "type(mytuple)"
   ]
  },
  {
   "cell_type": "code",
   "execution_count": 8,
   "id": "ef5102fe",
   "metadata": {},
   "outputs": [
    {
     "data": {
      "text/plain": [
       "'python'"
      ]
     },
     "execution_count": 8,
     "metadata": {},
     "output_type": "execute_result"
    }
   ],
   "source": [
    "mytuple[1]"
   ]
  },
  {
   "cell_type": "code",
   "execution_count": 11,
   "id": "207dd691",
   "metadata": {},
   "outputs": [
    {
     "data": {
      "text/plain": [
       "(1, 'python', 3.1)"
      ]
     },
     "execution_count": 11,
     "metadata": {},
     "output_type": "execute_result"
    }
   ],
   "source": [
    "# last index is exclusive\n",
    "mytuple[0:3]"
   ]
  },
  {
   "cell_type": "code",
   "execution_count": 13,
   "id": "8aee091f",
   "metadata": {},
   "outputs": [
    {
     "data": {
      "text/plain": [
       "4"
      ]
     },
     "execution_count": 13,
     "metadata": {},
     "output_type": "execute_result"
    }
   ],
   "source": [
    "# elements in tuple\n",
    "len(mytuple)"
   ]
  },
  {
   "cell_type": "code",
   "execution_count": 15,
   "id": "845da58a",
   "metadata": {},
   "outputs": [
    {
     "data": {
      "text/plain": [
       "(2, 'asim', 3.5, False)"
      ]
     },
     "execution_count": 15,
     "metadata": {},
     "output_type": "execute_result"
    }
   ],
   "source": [
    "yourtuple = (2, 'asim', 3.5, False)\n",
    "yourtuple"
   ]
  },
  {
   "cell_type": "code",
   "execution_count": 27,
   "id": "3329877d",
   "metadata": {},
   "outputs": [
    {
     "data": {
      "text/plain": [
       "(1, 'python', 3.1, True, 2, 'asim', 3.5, False)"
      ]
     },
     "execution_count": 27,
     "metadata": {},
     "output_type": "execute_result"
    }
   ],
   "source": [
    "# concatenation of tuples\n",
    "\n",
    "mytuple + yourtuple"
   ]
  },
  {
   "cell_type": "code",
   "execution_count": 28,
   "id": "5ec55aa5",
   "metadata": {},
   "outputs": [
    {
     "data": {
      "text/plain": [
       "(1, 'python', 3.1, True, 1, 'python', 3.1, True, 2, 'asim', 3.5, False)"
      ]
     },
     "execution_count": 28,
     "metadata": {},
     "output_type": "execute_result"
    }
   ],
   "source": [
    "# concatenation + repeatation\n",
    "mytuple *2 + yourtuple"
   ]
  },
  {
   "cell_type": "code",
   "execution_count": 30,
   "id": "72cd7e84",
   "metadata": {},
   "outputs": [
    {
     "data": {
      "text/plain": [
       "(20, 30, 50, 30)"
      ]
     },
     "execution_count": 30,
     "metadata": {},
     "output_type": "execute_result"
    }
   ],
   "source": [
    "tup1 = ( 20, 30, 50, 30 )\n",
    "tup1"
   ]
  },
  {
   "cell_type": "code",
   "execution_count": 21,
   "id": "4f411664",
   "metadata": {},
   "outputs": [
    {
     "data": {
      "text/plain": [
       "20"
      ]
     },
     "execution_count": 21,
     "metadata": {},
     "output_type": "execute_result"
    }
   ],
   "source": [
    "# minunum in tuple \n",
    "min(tup1)"
   ]
  },
  {
   "cell_type": "code",
   "execution_count": 23,
   "id": "18f33262",
   "metadata": {},
   "outputs": [
    {
     "data": {
      "text/plain": [
       "50"
      ]
     },
     "execution_count": 23,
     "metadata": {},
     "output_type": "execute_result"
    }
   ],
   "source": [
    "# maximum in tuple\n",
    "max(tup1)"
   ]
  },
  {
   "cell_type": "code",
   "execution_count": 26,
   "id": "eab5eed0",
   "metadata": {},
   "outputs": [
    {
     "data": {
      "text/plain": [
       "(20,\n",
       " 30,\n",
       " 50,\n",
       " 30,\n",
       " 20,\n",
       " 30,\n",
       " 50,\n",
       " 30,\n",
       " 20,\n",
       " 30,\n",
       " 50,\n",
       " 30,\n",
       " 20,\n",
       " 30,\n",
       " 50,\n",
       " 30,\n",
       " 20,\n",
       " 30,\n",
       " 50,\n",
       " 30)"
      ]
     },
     "execution_count": 26,
     "metadata": {},
     "output_type": "execute_result"
    }
   ],
   "source": [
    "tup1 * 5"
   ]
  },
  {
   "cell_type": "markdown",
   "id": "3c0fa0a8",
   "metadata": {},
   "source": [
    "---"
   ]
  },
  {
   "cell_type": "markdown",
   "id": "411e8649",
   "metadata": {},
   "source": [
    "## 2- lists\n",
    "- ordered collection of elements enclosed in square brackets []\n",
    "- mutatable you can change the values"
   ]
  },
  {
   "cell_type": "code",
   "execution_count": 32,
   "id": "1afd8668",
   "metadata": {},
   "outputs": [
    {
     "data": {
      "text/plain": [
       "[2, 'asim', 3.5, False]"
      ]
     },
     "execution_count": 32,
     "metadata": {},
     "output_type": "execute_result"
    }
   ],
   "source": [
    "list1 = [ 2, 'asim', 3.5, False ]\n",
    "list1"
   ]
  },
  {
   "cell_type": "code",
   "execution_count": 33,
   "id": "f270b23b",
   "metadata": {},
   "outputs": [
    {
     "data": {
      "text/plain": [
       "list"
      ]
     },
     "execution_count": 33,
     "metadata": {},
     "output_type": "execute_result"
    }
   ],
   "source": [
    "type(list1)"
   ]
  },
  {
   "cell_type": "code",
   "execution_count": 35,
   "id": "09870ea2",
   "metadata": {},
   "outputs": [
    {
     "data": {
      "text/plain": [
       "4"
      ]
     },
     "execution_count": 35,
     "metadata": {},
     "output_type": "execute_result"
    }
   ],
   "source": [
    "len(list1)"
   ]
  },
  {
   "cell_type": "code",
   "execution_count": 36,
   "id": "b04fecf7",
   "metadata": {},
   "outputs": [
    {
     "data": {
      "text/plain": [
       "'asim'"
      ]
     },
     "execution_count": 36,
     "metadata": {},
     "output_type": "execute_result"
    }
   ],
   "source": [
    "list1[1]"
   ]
  },
  {
   "cell_type": "code",
   "execution_count": 38,
   "id": "45dbf69a",
   "metadata": {},
   "outputs": [
    {
     "data": {
      "text/plain": [
       "[2, 'asim', 3.5]"
      ]
     },
     "execution_count": 38,
     "metadata": {},
     "output_type": "execute_result"
    }
   ],
   "source": [
    "list1[0:3]"
   ]
  },
  {
   "cell_type": "code",
   "execution_count": 39,
   "id": "06dc040a",
   "metadata": {},
   "outputs": [
    {
     "data": {
      "text/plain": [
       "[3, 5, 'asim', 'hello', 470, 45.4, False]"
      ]
     },
     "execution_count": 39,
     "metadata": {},
     "output_type": "execute_result"
    }
   ],
   "source": [
    "list2 = [ 3, 5, \"asim\", \"hello\", 470, 45.4, False]\n",
    "list2"
   ]
  },
  {
   "cell_type": "code",
   "execution_count": 40,
   "id": "ada867a1",
   "metadata": {},
   "outputs": [
    {
     "data": {
      "text/plain": [
       "[2, 'asim', 3.5, False, 3, 5, 'asim', 'hello', 470, 45.4, False]"
      ]
     },
     "execution_count": 40,
     "metadata": {},
     "output_type": "execute_result"
    }
   ],
   "source": [
    "list1 + list2"
   ]
  },
  {
   "cell_type": "code",
   "execution_count": 41,
   "id": "f850c7d8",
   "metadata": {},
   "outputs": [
    {
     "data": {
      "text/plain": [
       "[2, 'asim', 3.5, False, 2, 'asim', 3.5, False]"
      ]
     },
     "execution_count": 41,
     "metadata": {},
     "output_type": "execute_result"
    }
   ],
   "source": [
    "list1 * 2"
   ]
  },
  {
   "cell_type": "code",
   "execution_count": 42,
   "id": "f86de244",
   "metadata": {},
   "outputs": [
    {
     "data": {
      "text/plain": [
       "[False, 3.5, 'asim', 2]"
      ]
     },
     "execution_count": 42,
     "metadata": {},
     "output_type": "execute_result"
    }
   ],
   "source": [
    "list1.reverse()\n",
    "list1"
   ]
  },
  {
   "cell_type": "code",
   "execution_count": 45,
   "id": "7760d2ae",
   "metadata": {},
   "outputs": [
    {
     "data": {
      "text/plain": [
       "[False,\n",
       " 3.5,\n",
       " 'asim',\n",
       " 2,\n",
       " 'hello how are you',\n",
       " 'hello how are you',\n",
       " 'hello how are you']"
      ]
     },
     "execution_count": 45,
     "metadata": {},
     "output_type": "execute_result"
    }
   ],
   "source": [
    "list1.append(\"hello how are you\")\n",
    "list1"
   ]
  },
  {
   "cell_type": "code",
   "execution_count": 49,
   "id": "af9bf683",
   "metadata": {},
   "outputs": [
    {
     "data": {
      "text/plain": [
       "[32, 34, 234, 34, 345, 345]"
      ]
     },
     "execution_count": 49,
     "metadata": {},
     "output_type": "execute_result"
    }
   ],
   "source": [
    "list2 = [ 32, 34, 234,34,345 ,345 ]\n",
    "list2"
   ]
  },
  {
   "cell_type": "code",
   "execution_count": 51,
   "id": "22715068",
   "metadata": {},
   "outputs": [
    {
     "data": {
      "text/plain": [
       "[32, 34, 34, 234, 345, 345]"
      ]
     },
     "execution_count": 51,
     "metadata": {},
     "output_type": "execute_result"
    }
   ],
   "source": [
    "list2.sort()\n",
    "list2"
   ]
  },
  {
   "cell_type": "code",
   "execution_count": 52,
   "id": "7ab1a925",
   "metadata": {},
   "outputs": [
    {
     "data": {
      "text/plain": [
       "[32, 34, 34, 234, 345, 345, 32, 34, 34, 234, 345, 345]"
      ]
     },
     "execution_count": 52,
     "metadata": {},
     "output_type": "execute_result"
    }
   ],
   "source": [
    "list2 * 2"
   ]
  },
  {
   "cell_type": "code",
   "execution_count": 54,
   "id": "72946316",
   "metadata": {
    "scrolled": true
   },
   "outputs": [
    {
     "data": {
      "text/plain": [
       "[32,\n",
       " 34,\n",
       " 34,\n",
       " 234,\n",
       " 345,\n",
       " 345,\n",
       " False,\n",
       " 3.5,\n",
       " 'asim',\n",
       " 2,\n",
       " 'hello how are you',\n",
       " 'hello how are you',\n",
       " 'hello how are you']"
      ]
     },
     "execution_count": 54,
     "metadata": {},
     "output_type": "execute_result"
    }
   ],
   "source": [
    "list2 + list1"
   ]
  },
  {
   "cell_type": "markdown",
   "id": "ac0afba5",
   "metadata": {},
   "source": [
    "## 3- dictionaries\n",
    "- an unordered collection of elements\n",
    "- key and value\n",
    "- curly braces { }\n",
    "- mutatable"
   ]
  },
  {
   "cell_type": "code",
   "execution_count": 56,
   "id": "4470d755",
   "metadata": {},
   "outputs": [
    {
     "data": {
      "text/plain": [
       "{'samosa': 40, 'pakora': 50, 'raita': 20, 'salad': 30, 'chicken rolls': 30}"
      ]
     },
     "execution_count": 56,
     "metadata": {},
     "output_type": "execute_result"
    }
   ],
   "source": [
    "# foods and thier prices\n",
    "food = { \"samosa\" :40, \"pakora\" : 50, \"raita\" :20, \"salad\" : 30, \"chicken rolls\" : 30 }\n",
    "food"
   ]
  },
  {
   "cell_type": "code",
   "execution_count": 57,
   "id": "9ac4d00b",
   "metadata": {},
   "outputs": [
    {
     "data": {
      "text/plain": [
       "dict"
      ]
     },
     "execution_count": 57,
     "metadata": {},
     "output_type": "execute_result"
    }
   ],
   "source": [
    "type(food)"
   ]
  },
  {
   "cell_type": "code",
   "execution_count": 58,
   "id": "deb17199",
   "metadata": {},
   "outputs": [
    {
     "data": {
      "text/plain": [
       "dict_keys(['samosa', 'pakora', 'raita', 'salad', 'chicken rolls'])"
      ]
     },
     "execution_count": 58,
     "metadata": {},
     "output_type": "execute_result"
    }
   ],
   "source": [
    "# extract data\n",
    "food.keys()"
   ]
  },
  {
   "cell_type": "code",
   "execution_count": 59,
   "id": "b0bddf2e",
   "metadata": {},
   "outputs": [
    {
     "data": {
      "text/plain": [
       "dict_values([40, 50, 20, 30, 30])"
      ]
     },
     "execution_count": 59,
     "metadata": {},
     "output_type": "execute_result"
    }
   ],
   "source": [
    "food.values()"
   ]
  },
  {
   "cell_type": "code",
   "execution_count": 60,
   "id": "2628580f",
   "metadata": {},
   "outputs": [
    {
     "data": {
      "text/plain": [
       "{'samosa': 40,\n",
       " 'pakora': 50,\n",
       " 'raita': 20,\n",
       " 'salad': 30,\n",
       " 'chicken rolls': 30,\n",
       " 'tikki': 20}"
      ]
     },
     "execution_count": 60,
     "metadata": {},
     "output_type": "execute_result"
    }
   ],
   "source": [
    "# adding new elements\n",
    "food[\"tikki\"] = 20\n",
    "food"
   ]
  },
  {
   "cell_type": "code",
   "execution_count": 61,
   "id": "0208e2f6",
   "metadata": {},
   "outputs": [
    {
     "data": {
      "text/plain": [
       "{'samosa': 40,\n",
       " 'pakora': 50,\n",
       " 'raita': 20,\n",
       " 'salad': 30,\n",
       " 'chicken rolls': 30,\n",
       " 'tikki': 30}"
      ]
     },
     "execution_count": 61,
     "metadata": {},
     "output_type": "execute_result"
    }
   ],
   "source": [
    "# update value\n",
    "food[\"tikki\"] = 30\n",
    "food"
   ]
  },
  {
   "cell_type": "code",
   "execution_count": 62,
   "id": "89dea375",
   "metadata": {},
   "outputs": [
    {
     "data": {
      "text/plain": [
       "{'dates': 100, 'chocolates': 200, 'sawayan': 500}"
      ]
     },
     "execution_count": 62,
     "metadata": {},
     "output_type": "execute_result"
    }
   ],
   "source": [
    "food2 = { \"dates\" : 100, \"chocolates\": 200, \"sawayan\": 500 }\n",
    "food2"
   ]
  },
  {
   "cell_type": "code",
   "execution_count": 69,
   "id": "25ebb4ee",
   "metadata": {},
   "outputs": [
    {
     "data": {
      "text/plain": [
       "{'dates': 100, 'chocolates': 200, 'sawayan': 500, 'samosa': 200, 'milk': 500}"
      ]
     },
     "execution_count": 69,
     "metadata": {},
     "output_type": "execute_result"
    }
   ],
   "source": [
    "food2.update({\"milk\": 500})\n",
    "food2"
   ]
  },
  {
   "cell_type": "code",
   "execution_count": 71,
   "id": "d15392f3",
   "metadata": {},
   "outputs": [
    {
     "data": {
      "text/plain": [
       "{'samosa': 200,\n",
       " 'pakora': 50,\n",
       " 'raita': 20,\n",
       " 'salad': 30,\n",
       " 'chicken rolls': 30,\n",
       " 'tikki': 30,\n",
       " 'dates': 100,\n",
       " 'chocolates': 200,\n",
       " 'sawayan': 500,\n",
       " 'milk': 500}"
      ]
     },
     "execution_count": 71,
     "metadata": {},
     "output_type": "execute_result"
    }
   ],
   "source": [
    "# concatenation of dictionaries food + food1 not allowed\n",
    "food.update(food2)\n",
    "food"
   ]
  },
  {
   "cell_type": "code",
   "execution_count": 76,
   "id": "9a0b543f",
   "metadata": {},
   "outputs": [
    {
     "data": {
      "text/plain": [
       "1660"
      ]
     },
     "execution_count": 76,
     "metadata": {},
     "output_type": "execute_result"
    }
   ],
   "source": [
    "sum(food.values())"
   ]
  },
  {
   "cell_type": "markdown",
   "id": "3d0c8259",
   "metadata": {},
   "source": [
    "## sets\n",
    "- undorderd and unindexed collection of elements\n",
    "- curly braces are used\n",
    "- no duplicated are allowed\n",
    "- boolean values cannot be added"
   ]
  },
  {
   "cell_type": "code",
   "execution_count": 78,
   "id": "16b148b0",
   "metadata": {},
   "outputs": [
    {
     "data": {
      "text/plain": [
       "{1, 34.4, 'asim', 'lahore', 'pakistan'}"
      ]
     },
     "execution_count": 78,
     "metadata": {},
     "output_type": "execute_result"
    }
   ],
   "source": [
    "s1 = { 1, 34.4, \"asim\", \"lahore\", \"pakistan\", True}\n",
    "s1"
   ]
  },
  {
   "cell_type": "code",
   "execution_count": 81,
   "id": "fcd32d11",
   "metadata": {},
   "outputs": [
    {
     "data": {
      "text/plain": [
       "{1, 34.4, 'asim', 'lahore', 'pakistan', 'suhail'}"
      ]
     },
     "execution_count": 81,
     "metadata": {},
     "output_type": "execute_result"
    }
   ],
   "source": [
    "s1.add(\"suhail\")\n",
    "s1"
   ]
  },
  {
   "cell_type": "code",
   "execution_count": 83,
   "id": "456ad7cb",
   "metadata": {},
   "outputs": [
    {
     "data": {
      "text/plain": [
       "{1, 34.4, 'asim', 'lahore', 'pakistan', 'suhail'}"
      ]
     },
     "execution_count": 83,
     "metadata": {},
     "output_type": "execute_result"
    }
   ],
   "source": [
    "s1.add(1)\n",
    "s1"
   ]
  },
  {
   "cell_type": "code",
   "execution_count": 84,
   "id": "059a0d2e",
   "metadata": {},
   "outputs": [
    {
     "data": {
      "text/plain": [
       "{1, 34.4, 'asim', 'pakistan', 'suhail'}"
      ]
     },
     "execution_count": 84,
     "metadata": {},
     "output_type": "execute_result"
    }
   ],
   "source": [
    "s1.remove(\"lahore\")\n",
    "s1"
   ]
  }
 ],
 "metadata": {
  "kernelspec": {
   "display_name": "Python 3 (ipykernel)",
   "language": "python",
   "name": "python3"
  },
  "language_info": {
   "codemirror_mode": {
    "name": "ipython",
    "version": 3
   },
   "file_extension": ".py",
   "mimetype": "text/x-python",
   "name": "python",
   "nbconvert_exporter": "python",
   "pygments_lexer": "ipython3",
   "version": "3.10.2"
  }
 },
 "nbformat": 4,
 "nbformat_minor": 5
}
